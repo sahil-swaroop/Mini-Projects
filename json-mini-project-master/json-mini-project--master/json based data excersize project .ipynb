{
 "cells": [
  {
   "cell_type": "code",
   "execution_count": 1,
   "metadata": {},
   "outputs": [],
   "source": [
    "import pandas as pd \n",
    "import numpy as np \n",
    "import matplotlib.pyplot as plt \n",
    "%matplotlib inline "
   ]
  },
  {
   "cell_type": "code",
   "execution_count": 2,
   "metadata": {},
   "outputs": [
    {
     "data": {
      "text/html": [
       "<div>\n",
       "<style scoped>\n",
       "    .dataframe tbody tr th:only-of-type {\n",
       "        vertical-align: middle;\n",
       "    }\n",
       "\n",
       "    .dataframe tbody tr th {\n",
       "        vertical-align: top;\n",
       "    }\n",
       "\n",
       "    .dataframe thead th {\n",
       "        text-align: right;\n",
       "    }\n",
       "</style>\n",
       "<table border=\"1\" class=\"dataframe\">\n",
       "  <thead>\n",
       "    <tr style=\"text-align: right;\">\n",
       "      <th></th>\n",
       "      <th>sector</th>\n",
       "      <th>supplementprojectflg</th>\n",
       "      <th>projectfinancialtype</th>\n",
       "      <th>prodline</th>\n",
       "      <th>mjtheme</th>\n",
       "      <th>idacommamt</th>\n",
       "      <th>impagency</th>\n",
       "      <th>project_name</th>\n",
       "      <th>mjthemecode</th>\n",
       "      <th>closingdate</th>\n",
       "      <th>...</th>\n",
       "      <th>majorsector_percent</th>\n",
       "      <th>board_approval_month</th>\n",
       "      <th>theme_namecode</th>\n",
       "      <th>countryname</th>\n",
       "      <th>url</th>\n",
       "      <th>source</th>\n",
       "      <th>projectstatusdisplay</th>\n",
       "      <th>ibrdcommamt</th>\n",
       "      <th>sector_namecode</th>\n",
       "      <th>_id</th>\n",
       "    </tr>\n",
       "  </thead>\n",
       "  <tbody>\n",
       "    <tr>\n",
       "      <th>0</th>\n",
       "      <td>[{'Name': 'Primary education'}, {'Name': 'Seco...</td>\n",
       "      <td>N</td>\n",
       "      <td>IDA</td>\n",
       "      <td>PE</td>\n",
       "      <td>[Human development]</td>\n",
       "      <td>130000000</td>\n",
       "      <td>MINISTRY OF EDUCATION</td>\n",
       "      <td>Ethiopia General Education Quality Improvement...</td>\n",
       "      <td>8,11</td>\n",
       "      <td>2018-07-07T00:00:00Z</td>\n",
       "      <td>...</td>\n",
       "      <td>[{'Percent': 46, 'Name': 'Education'}, {'Perce...</td>\n",
       "      <td>November</td>\n",
       "      <td>[{'code': '65', 'name': 'Education for all'}]</td>\n",
       "      <td>Federal Democratic Republic of Ethiopia</td>\n",
       "      <td>http://www.worldbank.org/projects/P129828/ethi...</td>\n",
       "      <td>IBRD</td>\n",
       "      <td>Active</td>\n",
       "      <td>0</td>\n",
       "      <td>[{'code': 'EP', 'name': 'Primary education'}, ...</td>\n",
       "      <td>{'$oid': '52b213b38594d8a2be17c780'}</td>\n",
       "    </tr>\n",
       "    <tr>\n",
       "      <th>1</th>\n",
       "      <td>[{'Name': 'Public administration- Other social...</td>\n",
       "      <td>N</td>\n",
       "      <td>OTHER</td>\n",
       "      <td>RE</td>\n",
       "      <td>[Economic management, Social protection and ri...</td>\n",
       "      <td>0</td>\n",
       "      <td>MINISTRY OF FINANCE</td>\n",
       "      <td>TN: DTF Social Protection Reforms Support</td>\n",
       "      <td>1,6</td>\n",
       "      <td>NaN</td>\n",
       "      <td>...</td>\n",
       "      <td>[{'Percent': 70, 'Name': 'Public Administratio...</td>\n",
       "      <td>November</td>\n",
       "      <td>[{'code': '24', 'name': 'Other economic manage...</td>\n",
       "      <td>Republic of Tunisia</td>\n",
       "      <td>http://www.worldbank.org/projects/P144674?lang=en</td>\n",
       "      <td>IBRD</td>\n",
       "      <td>Active</td>\n",
       "      <td>0</td>\n",
       "      <td>[{'code': 'BS', 'name': 'Public administration...</td>\n",
       "      <td>{'$oid': '52b213b38594d8a2be17c781'}</td>\n",
       "    </tr>\n",
       "    <tr>\n",
       "      <th>2</th>\n",
       "      <td>[{'Name': 'Rural and Inter-Urban Roads and Hig...</td>\n",
       "      <td>Y</td>\n",
       "      <td>IDA</td>\n",
       "      <td>PE</td>\n",
       "      <td>[Trade and integration, Public sector governan...</td>\n",
       "      <td>6060000</td>\n",
       "      <td>MINISTRY OF TRANSPORT AND COMMUNICATIONS</td>\n",
       "      <td>Tuvalu Aviation Investment Project - Additiona...</td>\n",
       "      <td>5,2,11,6</td>\n",
       "      <td>NaN</td>\n",
       "      <td>...</td>\n",
       "      <td>[{'Percent': 100, 'Name': 'Transportation'}]</td>\n",
       "      <td>November</td>\n",
       "      <td>[{'code': '47', 'name': 'Regional integration'...</td>\n",
       "      <td>Tuvalu</td>\n",
       "      <td>http://www.worldbank.org/projects/P145310?lang=en</td>\n",
       "      <td>IBRD</td>\n",
       "      <td>Active</td>\n",
       "      <td>0</td>\n",
       "      <td>[{'code': 'TI', 'name': 'Rural and Inter-Urban...</td>\n",
       "      <td>{'$oid': '52b213b38594d8a2be17c782'}</td>\n",
       "    </tr>\n",
       "    <tr>\n",
       "      <th>3</th>\n",
       "      <td>[{'Name': 'Other social services'}]</td>\n",
       "      <td>N</td>\n",
       "      <td>OTHER</td>\n",
       "      <td>RE</td>\n",
       "      <td>[Social dev/gender/inclusion, Social dev/gende...</td>\n",
       "      <td>0</td>\n",
       "      <td>LABOR INTENSIVE PUBLIC WORKS PROJECT PMU</td>\n",
       "      <td>Gov't and Civil Society Organization Partnership</td>\n",
       "      <td>7,7</td>\n",
       "      <td>NaN</td>\n",
       "      <td>...</td>\n",
       "      <td>[{'Percent': 100, 'Name': 'Health and other so...</td>\n",
       "      <td>October</td>\n",
       "      <td>[{'code': '57', 'name': 'Participation and civ...</td>\n",
       "      <td>Republic of Yemen</td>\n",
       "      <td>http://www.worldbank.org/projects/P144665?lang=en</td>\n",
       "      <td>IBRD</td>\n",
       "      <td>Active</td>\n",
       "      <td>0</td>\n",
       "      <td>[{'code': 'JB', 'name': 'Other social services'}]</td>\n",
       "      <td>{'$oid': '52b213b38594d8a2be17c783'}</td>\n",
       "    </tr>\n",
       "    <tr>\n",
       "      <th>4</th>\n",
       "      <td>[{'Name': 'General industry and trade sector'}...</td>\n",
       "      <td>N</td>\n",
       "      <td>IDA</td>\n",
       "      <td>PE</td>\n",
       "      <td>[Trade and integration, Financial and private ...</td>\n",
       "      <td>13100000</td>\n",
       "      <td>MINISTRY OF TRADE AND INDUSTRY</td>\n",
       "      <td>Second Private Sector Competitiveness and Econ...</td>\n",
       "      <td>5,4</td>\n",
       "      <td>2019-04-30T00:00:00Z</td>\n",
       "      <td>...</td>\n",
       "      <td>[{'Percent': 50, 'Name': 'Industry and trade'}...</td>\n",
       "      <td>October</td>\n",
       "      <td>[{'code': '45', 'name': 'Export development an...</td>\n",
       "      <td>Kingdom of Lesotho</td>\n",
       "      <td>http://www.worldbank.org/projects/P144933/seco...</td>\n",
       "      <td>IBRD</td>\n",
       "      <td>Active</td>\n",
       "      <td>0</td>\n",
       "      <td>[{'code': 'YZ', 'name': 'General industry and ...</td>\n",
       "      <td>{'$oid': '52b213b38594d8a2be17c784'}</td>\n",
       "    </tr>\n",
       "  </tbody>\n",
       "</table>\n",
       "<p>5 rows × 50 columns</p>\n",
       "</div>"
      ],
      "text/plain": [
       "                                              sector supplementprojectflg  \\\n",
       "0  [{'Name': 'Primary education'}, {'Name': 'Seco...                    N   \n",
       "1  [{'Name': 'Public administration- Other social...                    N   \n",
       "2  [{'Name': 'Rural and Inter-Urban Roads and Hig...                    Y   \n",
       "3                [{'Name': 'Other social services'}]                    N   \n",
       "4  [{'Name': 'General industry and trade sector'}...                    N   \n",
       "\n",
       "  projectfinancialtype prodline  \\\n",
       "0                  IDA       PE   \n",
       "1                OTHER       RE   \n",
       "2                  IDA       PE   \n",
       "3                OTHER       RE   \n",
       "4                  IDA       PE   \n",
       "\n",
       "                                             mjtheme  idacommamt  \\\n",
       "0                                [Human development]   130000000   \n",
       "1  [Economic management, Social protection and ri...           0   \n",
       "2  [Trade and integration, Public sector governan...     6060000   \n",
       "3  [Social dev/gender/inclusion, Social dev/gende...           0   \n",
       "4  [Trade and integration, Financial and private ...    13100000   \n",
       "\n",
       "                                  impagency  \\\n",
       "0                     MINISTRY OF EDUCATION   \n",
       "1                       MINISTRY OF FINANCE   \n",
       "2  MINISTRY OF TRANSPORT AND COMMUNICATIONS   \n",
       "3  LABOR INTENSIVE PUBLIC WORKS PROJECT PMU   \n",
       "4            MINISTRY OF TRADE AND INDUSTRY   \n",
       "\n",
       "                                        project_name mjthemecode  \\\n",
       "0  Ethiopia General Education Quality Improvement...        8,11   \n",
       "1          TN: DTF Social Protection Reforms Support         1,6   \n",
       "2  Tuvalu Aviation Investment Project - Additiona...    5,2,11,6   \n",
       "3   Gov't and Civil Society Organization Partnership         7,7   \n",
       "4  Second Private Sector Competitiveness and Econ...         5,4   \n",
       "\n",
       "            closingdate  ...  \\\n",
       "0  2018-07-07T00:00:00Z  ...   \n",
       "1                   NaN  ...   \n",
       "2                   NaN  ...   \n",
       "3                   NaN  ...   \n",
       "4  2019-04-30T00:00:00Z  ...   \n",
       "\n",
       "                                 majorsector_percent board_approval_month  \\\n",
       "0  [{'Percent': 46, 'Name': 'Education'}, {'Perce...             November   \n",
       "1  [{'Percent': 70, 'Name': 'Public Administratio...             November   \n",
       "2       [{'Percent': 100, 'Name': 'Transportation'}]             November   \n",
       "3  [{'Percent': 100, 'Name': 'Health and other so...              October   \n",
       "4  [{'Percent': 50, 'Name': 'Industry and trade'}...              October   \n",
       "\n",
       "                                      theme_namecode  \\\n",
       "0      [{'code': '65', 'name': 'Education for all'}]   \n",
       "1  [{'code': '24', 'name': 'Other economic manage...   \n",
       "2  [{'code': '47', 'name': 'Regional integration'...   \n",
       "3  [{'code': '57', 'name': 'Participation and civ...   \n",
       "4  [{'code': '45', 'name': 'Export development an...   \n",
       "\n",
       "                               countryname  \\\n",
       "0  Federal Democratic Republic of Ethiopia   \n",
       "1                      Republic of Tunisia   \n",
       "2                                   Tuvalu   \n",
       "3                        Republic of Yemen   \n",
       "4                       Kingdom of Lesotho   \n",
       "\n",
       "                                                 url source  \\\n",
       "0  http://www.worldbank.org/projects/P129828/ethi...   IBRD   \n",
       "1  http://www.worldbank.org/projects/P144674?lang=en   IBRD   \n",
       "2  http://www.worldbank.org/projects/P145310?lang=en   IBRD   \n",
       "3  http://www.worldbank.org/projects/P144665?lang=en   IBRD   \n",
       "4  http://www.worldbank.org/projects/P144933/seco...   IBRD   \n",
       "\n",
       "  projectstatusdisplay ibrdcommamt  \\\n",
       "0               Active           0   \n",
       "1               Active           0   \n",
       "2               Active           0   \n",
       "3               Active           0   \n",
       "4               Active           0   \n",
       "\n",
       "                                     sector_namecode  \\\n",
       "0  [{'code': 'EP', 'name': 'Primary education'}, ...   \n",
       "1  [{'code': 'BS', 'name': 'Public administration...   \n",
       "2  [{'code': 'TI', 'name': 'Rural and Inter-Urban...   \n",
       "3  [{'code': 'JB', 'name': 'Other social services'}]   \n",
       "4  [{'code': 'YZ', 'name': 'General industry and ...   \n",
       "\n",
       "                                    _id  \n",
       "0  {'$oid': '52b213b38594d8a2be17c780'}  \n",
       "1  {'$oid': '52b213b38594d8a2be17c781'}  \n",
       "2  {'$oid': '52b213b38594d8a2be17c782'}  \n",
       "3  {'$oid': '52b213b38594d8a2be17c783'}  \n",
       "4  {'$oid': '52b213b38594d8a2be17c784'}  \n",
       "\n",
       "[5 rows x 50 columns]"
      ]
     },
     "execution_count": 2,
     "metadata": {},
     "output_type": "execute_result"
    }
   ],
   "source": [
    "# load as Pandas dataframe\n",
    "sample_json_df = pd.read_json('world_bank_projects.json')\n",
    "sample_json_df.head()"
   ]
  },
  {
   "cell_type": "code",
   "execution_count": 3,
   "metadata": {
    "scrolled": true
   },
   "outputs": [
    {
     "name": "stdout",
     "output_type": "stream",
     "text": [
      "<class 'pandas.core.frame.DataFrame'>\n",
      "RangeIndex: 500 entries, 0 to 499\n",
      "Data columns (total 50 columns):\n",
      " #   Column                    Non-Null Count  Dtype \n",
      "---  ------                    --------------  ----- \n",
      " 0   sector                    500 non-null    object\n",
      " 1   supplementprojectflg      498 non-null    object\n",
      " 2   projectfinancialtype      500 non-null    object\n",
      " 3   prodline                  500 non-null    object\n",
      " 4   mjtheme                   491 non-null    object\n",
      " 5   idacommamt                500 non-null    int64 \n",
      " 6   impagency                 472 non-null    object\n",
      " 7   project_name              500 non-null    object\n",
      " 8   mjthemecode               500 non-null    object\n",
      " 9   closingdate               370 non-null    object\n",
      " 10  totalcommamt              500 non-null    int64 \n",
      " 11  id                        500 non-null    object\n",
      " 12  mjsector_namecode         500 non-null    object\n",
      " 13  docty                     446 non-null    object\n",
      " 14  sector1                   500 non-null    object\n",
      " 15  lendinginstr              495 non-null    object\n",
      " 16  countrycode               500 non-null    object\n",
      " 17  sector2                   380 non-null    object\n",
      " 18  totalamt                  500 non-null    int64 \n",
      " 19  mjtheme_namecode          500 non-null    object\n",
      " 20  boardapprovaldate         500 non-null    object\n",
      " 21  countryshortname          500 non-null    object\n",
      " 22  sector4                   174 non-null    object\n",
      " 23  prodlinetext              500 non-null    object\n",
      " 24  productlinetype           500 non-null    object\n",
      " 25  regionname                500 non-null    object\n",
      " 26  status                    500 non-null    object\n",
      " 27  country_namecode          500 non-null    object\n",
      " 28  envassesmentcategorycode  430 non-null    object\n",
      " 29  project_abstract          362 non-null    object\n",
      " 30  approvalfy                500 non-null    int64 \n",
      " 31  projectdocs               446 non-null    object\n",
      " 32  lendprojectcost           500 non-null    int64 \n",
      " 33  lendinginstrtype          495 non-null    object\n",
      " 34  theme1                    500 non-null    object\n",
      " 35  grantamt                  500 non-null    int64 \n",
      " 36  themecode                 491 non-null    object\n",
      " 37  borrower                  485 non-null    object\n",
      " 38  sectorcode                500 non-null    object\n",
      " 39  sector3                   265 non-null    object\n",
      " 40  majorsector_percent       500 non-null    object\n",
      " 41  board_approval_month      500 non-null    object\n",
      " 42  theme_namecode            491 non-null    object\n",
      " 43  countryname               500 non-null    object\n",
      " 44  url                       500 non-null    object\n",
      " 45  source                    500 non-null    object\n",
      " 46  projectstatusdisplay      500 non-null    object\n",
      " 47  ibrdcommamt               500 non-null    int64 \n",
      " 48  sector_namecode           500 non-null    object\n",
      " 49  _id                       500 non-null    object\n",
      "dtypes: int64(7), object(43)\n",
      "memory usage: 195.4+ KB\n"
     ]
    }
   ],
   "source": [
    "sample_json_df.info()"
   ]
  },
  {
   "cell_type": "markdown",
   "metadata": {},
   "source": [
    "## solution1: top ten counties with most projects "
   ]
  },
  {
   "cell_type": "code",
   "execution_count": 4,
   "metadata": {},
   "outputs": [
    {
     "data": {
      "text/plain": [
       "118"
      ]
     },
     "execution_count": 4,
     "metadata": {},
     "output_type": "execute_result"
    }
   ],
   "source": [
    "sample_json_df.countryshortname.nunique()"
   ]
  },
  {
   "cell_type": "code",
   "execution_count": 5,
   "metadata": {
    "scrolled": true
   },
   "outputs": [
    {
     "data": {
      "text/plain": [
       "Indonesia             19\n",
       "China                 19\n",
       "Vietnam               17\n",
       "India                 16\n",
       "Yemen, Republic of    13\n",
       "Bangladesh            12\n",
       "Morocco               12\n",
       "Nepal                 12\n",
       "Mozambique            11\n",
       "Africa                11\n",
       "Name: countryshortname, dtype: int64"
      ]
     },
     "execution_count": 5,
     "metadata": {},
     "output_type": "execute_result"
    }
   ],
   "source": [
    "sample_json_df.countryshortname.value_counts().head(10)"
   ]
  },
  {
   "cell_type": "code",
   "execution_count": 6,
   "metadata": {},
   "outputs": [
    {
     "data": {
      "image/png": "[encoded data removed]",
      "text/plain": [
       "<Figure size 1080x576 with 1 Axes>"
      ]
     },
     "metadata": {
      "needs_background": "light"
     },
     "output_type": "display_data"
    }
   ],
   "source": [
    "sample_json_df.countryshortname.value_counts().head(10).plot(kind = \"bar\",figsize = (15,8))\n",
    "plt.show()"
   ]
  },
  {
   "cell_type": "markdown",
   "metadata": {},
   "source": [
    "## solution2: Find the top 10 major project themes (using column 'mjtheme_namecode')"
   ]
  },
  {
   "cell_type": "code",
   "execution_count": 7,
   "metadata": {
    "scrolled": true
   },
   "outputs": [
    {
     "name": "stdout",
     "output_type": "stream",
     "text": [
      "<class 'pandas.core.frame.DataFrame'>\n",
      "RangeIndex: 500 entries, 0 to 499\n",
      "Data columns (total 50 columns):\n",
      " #   Column                    Non-Null Count  Dtype \n",
      "---  ------                    --------------  ----- \n",
      " 0   sector                    500 non-null    object\n",
      " 1   supplementprojectflg      498 non-null    object\n",
      " 2   projectfinancialtype      500 non-null    object\n",
      " 3   prodline                  500 non-null    object\n",
      " 4   mjtheme                   491 non-null    object\n",
      " 5   idacommamt                500 non-null    int64 \n",
      " 6   impagency                 472 non-null    object\n",
      " 7   project_name              500 non-null    object\n",
      " 8   mjthemecode               500 non-null    object\n",
      " 9   closingdate               370 non-null    object\n",
      " 10  totalcommamt              500 non-null    int64 \n",
      " 11  id                        500 non-null    object\n",
      " 12  mjsector_namecode         500 non-null    object\n",
      " 13  docty                     446 non-null    object\n",
      " 14  sector1                   500 non-null    object\n",
      " 15  lendinginstr              495 non-null    object\n",
      " 16  countrycode               500 non-null    object\n",
      " 17  sector2                   380 non-null    object\n",
      " 18  totalamt                  500 non-null    int64 \n",
      " 19  mjtheme_namecode          500 non-null    object\n",
      " 20  boardapprovaldate         500 non-null    object\n",
      " 21  countryshortname          500 non-null    object\n",
      " 22  sector4                   174 non-null    object\n",
      " 23  prodlinetext              500 non-null    object\n",
      " 24  productlinetype           500 non-null    object\n",
      " 25  regionname                500 non-null    object\n",
      " 26  status                    500 non-null    object\n",
      " 27  country_namecode          500 non-null    object\n",
      " 28  envassesmentcategorycode  430 non-null    object\n",
      " 29  project_abstract          362 non-null    object\n",
      " 30  approvalfy                500 non-null    int64 \n",
      " 31  projectdocs               446 non-null    object\n",
      " 32  lendprojectcost           500 non-null    int64 \n",
      " 33  lendinginstrtype          495 non-null    object\n",
      " 34  theme1                    500 non-null    object\n",
      " 35  grantamt                  500 non-null    int64 \n",
      " 36  themecode                 491 non-null    object\n",
      " 37  borrower                  485 non-null    object\n",
      " 38  sectorcode                500 non-null    object\n",
      " 39  sector3                   265 non-null    object\n",
      " 40  majorsector_percent       500 non-null    object\n",
      " 41  board_approval_month      500 non-null    object\n",
      " 42  theme_namecode            491 non-null    object\n",
      " 43  countryname               500 non-null    object\n",
      " 44  url                       500 non-null    object\n",
      " 45  source                    500 non-null    object\n",
      " 46  projectstatusdisplay      500 non-null    object\n",
      " 47  ibrdcommamt               500 non-null    int64 \n",
      " 48  sector_namecode           500 non-null    object\n",
      " 49  _id                       500 non-null    object\n",
      "dtypes: int64(7), object(43)\n",
      "memory usage: 195.4+ KB\n"
     ]
    }
   ],
   "source": [
    "sample_json_df.info()"
   ]
  },
  {
   "cell_type": "code",
   "execution_count": 8,
   "metadata": {},
   "outputs": [
    {
     "data": {
      "text/plain": [
       "[{'code': '8', 'name': 'Human development'}, {'code': '11', 'name': ''}]"
      ]
     },
     "execution_count": 8,
     "metadata": {},
     "output_type": "execute_result"
    }
   ],
   "source": [
    "sample_json_df.mjtheme_namecode[0]"
   ]
  },
  {
   "cell_type": "code",
   "execution_count": 9,
   "metadata": {},
   "outputs": [],
   "source": [
    "## first step is to fill name values \n",
    "code = []\n",
    "project_name = []\n",
    "\n",
    "def some_func(element):\n",
    "    for dic in element:\n",
    "        code.append(dic[\"code\"])\n",
    "        project_name.append(dic[\"name\"])"
   ]
  },
  {
   "cell_type": "code",
   "execution_count": 10,
   "metadata": {
    "scrolled": true
   },
   "outputs": [
    {
     "data": {
      "text/plain": [
       "0      None\n",
       "1      None\n",
       "2      None\n",
       "3      None\n",
       "4      None\n",
       "       ... \n",
       "495    None\n",
       "496    None\n",
       "497    None\n",
       "498    None\n",
       "499    None\n",
       "Name: mjtheme_namecode, Length: 500, dtype: object"
      ]
     },
     "execution_count": 10,
     "metadata": {},
     "output_type": "execute_result"
    }
   ],
   "source": [
    "sample_json_df.mjtheme_namecode.apply(some_func)"
   ]
  },
  {
   "cell_type": "code",
   "execution_count": 11,
   "metadata": {},
   "outputs": [],
   "source": [
    "sample = pd.DataFrame({\"code\":code,\"project_name\":project_name})\n",
    "sample.code = sample.code.astype(\"int\")\n",
    "sample.sort_values(\"code\",inplace=True)"
   ]
  },
  {
   "cell_type": "code",
   "execution_count": 12,
   "metadata": {},
   "outputs": [
    {
     "data": {
      "text/html": [
       "<div>\n",
       "<style scoped>\n",
       "    .dataframe tbody tr th:only-of-type {\n",
       "        vertical-align: middle;\n",
       "    }\n",
       "\n",
       "    .dataframe tbody tr th {\n",
       "        vertical-align: top;\n",
       "    }\n",
       "\n",
       "    .dataframe thead th {\n",
       "        text-align: right;\n",
       "    }\n",
       "</style>\n",
       "<table border=\"1\" class=\"dataframe\">\n",
       "  <thead>\n",
       "    <tr style=\"text-align: right;\">\n",
       "      <th></th>\n",
       "      <th>code</th>\n",
       "      <th>project_name</th>\n",
       "    </tr>\n",
       "  </thead>\n",
       "  <tbody>\n",
       "    <tr>\n",
       "      <th>1114</th>\n",
       "      <td>1</td>\n",
       "      <td></td>\n",
       "    </tr>\n",
       "    <tr>\n",
       "      <th>647</th>\n",
       "      <td>1</td>\n",
       "      <td>Economic management</td>\n",
       "    </tr>\n",
       "    <tr>\n",
       "      <th>1260</th>\n",
       "      <td>1</td>\n",
       "      <td>Economic management</td>\n",
       "    </tr>\n",
       "    <tr>\n",
       "      <th>648</th>\n",
       "      <td>1</td>\n",
       "      <td>Economic management</td>\n",
       "    </tr>\n",
       "    <tr>\n",
       "      <th>1437</th>\n",
       "      <td>1</td>\n",
       "      <td></td>\n",
       "    </tr>\n",
       "    <tr>\n",
       "      <th>...</th>\n",
       "      <td>...</td>\n",
       "      <td>...</td>\n",
       "    </tr>\n",
       "    <tr>\n",
       "      <th>1162</th>\n",
       "      <td>11</td>\n",
       "      <td>Environment and natural resources management</td>\n",
       "    </tr>\n",
       "    <tr>\n",
       "      <th>511</th>\n",
       "      <td>11</td>\n",
       "      <td>Environment and natural resources management</td>\n",
       "    </tr>\n",
       "    <tr>\n",
       "      <th>519</th>\n",
       "      <td>11</td>\n",
       "      <td>Environment and natural resources management</td>\n",
       "    </tr>\n",
       "    <tr>\n",
       "      <th>1180</th>\n",
       "      <td>11</td>\n",
       "      <td>Environment and natural resources management</td>\n",
       "    </tr>\n",
       "    <tr>\n",
       "      <th>1181</th>\n",
       "      <td>11</td>\n",
       "      <td>Environment and natural resources management</td>\n",
       "    </tr>\n",
       "  </tbody>\n",
       "</table>\n",
       "<p>1499 rows × 2 columns</p>\n",
       "</div>"
      ],
      "text/plain": [
       "      code                                  project_name\n",
       "1114     1                                              \n",
       "647      1                           Economic management\n",
       "1260     1                           Economic management\n",
       "648      1                           Economic management\n",
       "1437     1                                              \n",
       "...    ...                                           ...\n",
       "1162    11  Environment and natural resources management\n",
       "511     11  Environment and natural resources management\n",
       "519     11  Environment and natural resources management\n",
       "1180    11  Environment and natural resources management\n",
       "1181    11  Environment and natural resources management\n",
       "\n",
       "[1499 rows x 2 columns]"
      ]
     },
     "execution_count": 12,
     "metadata": {},
     "output_type": "execute_result"
    }
   ],
   "source": [
    "sample"
   ]
  },
  {
   "cell_type": "code",
   "execution_count": 13,
   "metadata": {},
   "outputs": [],
   "source": [
    "sample2 = sample.copy()"
   ]
  },
  {
   "cell_type": "code",
   "execution_count": 14,
   "metadata": {},
   "outputs": [],
   "source": [
    "# where ever name is not there making it nan\n",
    "sample2[\"project_name\"] = np.where(sample2.project_name == \"\",np.nan,sample2.project_name)"
   ]
  },
  {
   "cell_type": "code",
   "execution_count": 15,
   "metadata": {},
   "outputs": [
    {
     "name": "stdout",
     "output_type": "stream",
     "text": [
      "<class 'pandas.core.frame.DataFrame'>\n",
      "Int64Index: 1499 entries, 1114 to 1181\n",
      "Data columns (total 2 columns):\n",
      " #   Column        Non-Null Count  Dtype \n",
      "---  ------        --------------  ----- \n",
      " 0   code          1499 non-null   int32 \n",
      " 1   project_name  1377 non-null   object\n",
      "dtypes: int32(1), object(1)\n",
      "memory usage: 29.3+ KB\n"
     ]
    }
   ],
   "source": [
    "sample2.info()"
   ]
  },
  {
   "cell_type": "code",
   "execution_count": 16,
   "metadata": {},
   "outputs": [
    {
     "data": {
      "text/html": [
       "<div>\n",
       "<style scoped>\n",
       "    .dataframe tbody tr th:only-of-type {\n",
       "        vertical-align: middle;\n",
       "    }\n",
       "\n",
       "    .dataframe tbody tr th {\n",
       "        vertical-align: top;\n",
       "    }\n",
       "\n",
       "    .dataframe thead th {\n",
       "        text-align: right;\n",
       "    }\n",
       "</style>\n",
       "<table border=\"1\" class=\"dataframe\">\n",
       "  <thead>\n",
       "    <tr style=\"text-align: right;\">\n",
       "      <th></th>\n",
       "      <th>code</th>\n",
       "      <th>project_name</th>\n",
       "    </tr>\n",
       "  </thead>\n",
       "  <tbody>\n",
       "    <tr>\n",
       "      <th>1114</th>\n",
       "      <td>1</td>\n",
       "      <td>NaN</td>\n",
       "    </tr>\n",
       "    <tr>\n",
       "      <th>647</th>\n",
       "      <td>1</td>\n",
       "      <td>Economic management</td>\n",
       "    </tr>\n",
       "    <tr>\n",
       "      <th>1260</th>\n",
       "      <td>1</td>\n",
       "      <td>Economic management</td>\n",
       "    </tr>\n",
       "    <tr>\n",
       "      <th>648</th>\n",
       "      <td>1</td>\n",
       "      <td>Economic management</td>\n",
       "    </tr>\n",
       "    <tr>\n",
       "      <th>1437</th>\n",
       "      <td>1</td>\n",
       "      <td>NaN</td>\n",
       "    </tr>\n",
       "    <tr>\n",
       "      <th>...</th>\n",
       "      <td>...</td>\n",
       "      <td>...</td>\n",
       "    </tr>\n",
       "    <tr>\n",
       "      <th>1162</th>\n",
       "      <td>11</td>\n",
       "      <td>Environment and natural resources management</td>\n",
       "    </tr>\n",
       "    <tr>\n",
       "      <th>511</th>\n",
       "      <td>11</td>\n",
       "      <td>Environment and natural resources management</td>\n",
       "    </tr>\n",
       "    <tr>\n",
       "      <th>519</th>\n",
       "      <td>11</td>\n",
       "      <td>Environment and natural resources management</td>\n",
       "    </tr>\n",
       "    <tr>\n",
       "      <th>1180</th>\n",
       "      <td>11</td>\n",
       "      <td>Environment and natural resources management</td>\n",
       "    </tr>\n",
       "    <tr>\n",
       "      <th>1181</th>\n",
       "      <td>11</td>\n",
       "      <td>Environment and natural resources management</td>\n",
       "    </tr>\n",
       "  </tbody>\n",
       "</table>\n",
       "<p>1499 rows × 2 columns</p>\n",
       "</div>"
      ],
      "text/plain": [
       "      code                                  project_name\n",
       "1114     1                                           NaN\n",
       "647      1                           Economic management\n",
       "1260     1                           Economic management\n",
       "648      1                           Economic management\n",
       "1437     1                                           NaN\n",
       "...    ...                                           ...\n",
       "1162    11  Environment and natural resources management\n",
       "511     11  Environment and natural resources management\n",
       "519     11  Environment and natural resources management\n",
       "1180    11  Environment and natural resources management\n",
       "1181    11  Environment and natural resources management\n",
       "\n",
       "[1499 rows x 2 columns]"
      ]
     },
     "execution_count": 16,
     "metadata": {},
     "output_type": "execute_result"
    }
   ],
   "source": [
    "sample2"
   ]
  },
  {
   "cell_type": "code",
   "execution_count": 17,
   "metadata": {},
   "outputs": [],
   "source": [
    "sample.dropna(inplace=True)"
   ]
  },
  {
   "cell_type": "code",
   "execution_count": 18,
   "metadata": {},
   "outputs": [],
   "source": [
    "sample2 = sample2.groupby(\"code\").first()"
   ]
  },
  {
   "cell_type": "code",
   "execution_count": 19,
   "metadata": {},
   "outputs": [],
   "source": [
    "sample = sample.merge(sample2,on=\"code\",how = \"inner\")"
   ]
  },
  {
   "cell_type": "code",
   "execution_count": 20,
   "metadata": {},
   "outputs": [
    {
     "data": {
      "text/html": [
       "<div>\n",
       "<style scoped>\n",
       "    .dataframe tbody tr th:only-of-type {\n",
       "        vertical-align: middle;\n",
       "    }\n",
       "\n",
       "    .dataframe tbody tr th {\n",
       "        vertical-align: top;\n",
       "    }\n",
       "\n",
       "    .dataframe thead th {\n",
       "        text-align: right;\n",
       "    }\n",
       "</style>\n",
       "<table border=\"1\" class=\"dataframe\">\n",
       "  <thead>\n",
       "    <tr style=\"text-align: right;\">\n",
       "      <th></th>\n",
       "      <th>code</th>\n",
       "      <th>project_name_x</th>\n",
       "      <th>project_name_y</th>\n",
       "    </tr>\n",
       "  </thead>\n",
       "  <tbody>\n",
       "    <tr>\n",
       "      <th>0</th>\n",
       "      <td>1</td>\n",
       "      <td></td>\n",
       "      <td>Economic management</td>\n",
       "    </tr>\n",
       "    <tr>\n",
       "      <th>1</th>\n",
       "      <td>1</td>\n",
       "      <td>Economic management</td>\n",
       "      <td>Economic management</td>\n",
       "    </tr>\n",
       "    <tr>\n",
       "      <th>2</th>\n",
       "      <td>1</td>\n",
       "      <td>Economic management</td>\n",
       "      <td>Economic management</td>\n",
       "    </tr>\n",
       "    <tr>\n",
       "      <th>3</th>\n",
       "      <td>1</td>\n",
       "      <td>Economic management</td>\n",
       "      <td>Economic management</td>\n",
       "    </tr>\n",
       "    <tr>\n",
       "      <th>4</th>\n",
       "      <td>1</td>\n",
       "      <td></td>\n",
       "      <td>Economic management</td>\n",
       "    </tr>\n",
       "    <tr>\n",
       "      <th>...</th>\n",
       "      <td>...</td>\n",
       "      <td>...</td>\n",
       "      <td>...</td>\n",
       "    </tr>\n",
       "    <tr>\n",
       "      <th>1494</th>\n",
       "      <td>11</td>\n",
       "      <td>Environment and natural resources management</td>\n",
       "      <td>Environment and natural resources management</td>\n",
       "    </tr>\n",
       "    <tr>\n",
       "      <th>1495</th>\n",
       "      <td>11</td>\n",
       "      <td>Environment and natural resources management</td>\n",
       "      <td>Environment and natural resources management</td>\n",
       "    </tr>\n",
       "    <tr>\n",
       "      <th>1496</th>\n",
       "      <td>11</td>\n",
       "      <td>Environment and natural resources management</td>\n",
       "      <td>Environment and natural resources management</td>\n",
       "    </tr>\n",
       "    <tr>\n",
       "      <th>1497</th>\n",
       "      <td>11</td>\n",
       "      <td>Environment and natural resources management</td>\n",
       "      <td>Environment and natural resources management</td>\n",
       "    </tr>\n",
       "    <tr>\n",
       "      <th>1498</th>\n",
       "      <td>11</td>\n",
       "      <td>Environment and natural resources management</td>\n",
       "      <td>Environment and natural resources management</td>\n",
       "    </tr>\n",
       "  </tbody>\n",
       "</table>\n",
       "<p>1499 rows × 3 columns</p>\n",
       "</div>"
      ],
      "text/plain": [
       "      code                                project_name_x  \\\n",
       "0        1                                                 \n",
       "1        1                           Economic management   \n",
       "2        1                           Economic management   \n",
       "3        1                           Economic management   \n",
       "4        1                                                 \n",
       "...    ...                                           ...   \n",
       "1494    11  Environment and natural resources management   \n",
       "1495    11  Environment and natural resources management   \n",
       "1496    11  Environment and natural resources management   \n",
       "1497    11  Environment and natural resources management   \n",
       "1498    11  Environment and natural resources management   \n",
       "\n",
       "                                    project_name_y  \n",
       "0                              Economic management  \n",
       "1                              Economic management  \n",
       "2                              Economic management  \n",
       "3                              Economic management  \n",
       "4                              Economic management  \n",
       "...                                            ...  \n",
       "1494  Environment and natural resources management  \n",
       "1495  Environment and natural resources management  \n",
       "1496  Environment and natural resources management  \n",
       "1497  Environment and natural resources management  \n",
       "1498  Environment and natural resources management  \n",
       "\n",
       "[1499 rows x 3 columns]"
      ]
     },
     "execution_count": 20,
     "metadata": {},
     "output_type": "execute_result"
    }
   ],
   "source": [
    "sample"
   ]
  },
  {
   "cell_type": "code",
   "execution_count": 21,
   "metadata": {},
   "outputs": [],
   "source": [
    "sample.drop(\"project_name_x\",axis = \"columns\",inplace=True)"
   ]
  },
  {
   "cell_type": "code",
   "execution_count": 22,
   "metadata": {
    "scrolled": false
   },
   "outputs": [
    {
     "data": {
      "text/plain": [
       "Environment and natural resources management    250\n",
       "Rural development                               216\n",
       "Human development                               210\n",
       "Public sector governance                        199\n",
       "Social protection and risk management           168\n",
       "Financial and private sector development        146\n",
       "Social dev/gender/inclusion                     130\n",
       "Trade and integration                            77\n",
       "Urban development                                50\n",
       "Economic management                              38\n",
       "Name: project_name_y, dtype: int64"
      ]
     },
     "execution_count": 22,
     "metadata": {},
     "output_type": "execute_result"
    }
   ],
   "source": [
    "sample.project_name_y.value_counts().head(10)"
   ]
  },
  {
   "cell_type": "code",
   "execution_count": 23,
   "metadata": {},
   "outputs": [
    {
     "data": {
      "image/png": "[encoded data removed]",
      "text/plain": [
       "<Figure size 720x432 with 1 Axes>"
      ]
     },
     "metadata": {
      "needs_background": "light"
     },
     "output_type": "display_data"
    }
   ],
   "source": [
    "sample.project_name_y.value_counts().head(10).plot(kind = \"bar\",figsize = (10,6))\n",
    "plt.show()"
   ]
  },
  {
   "cell_type": "markdown",
   "metadata": {},
   "source": [
    "## solution3: above you will notice that some entries have only the code and the name is missing. Create a dataframe with the missing names filled in."
   ]
  },
  {
   "cell_type": "code",
   "execution_count": 24,
   "metadata": {},
   "outputs": [],
   "source": [
    "def fill_value_func(element):\n",
    "    \n",
    "    for dic in element:\n",
    "        if dic[\"name\"] == \"\":\n",
    "            dic[\"name\"] = sample2.loc[int(dic[\"code\"])][0]"
   ]
  },
  {
   "cell_type": "code",
   "execution_count": 25,
   "metadata": {},
   "outputs": [
    {
     "data": {
      "text/plain": [
       "0      None\n",
       "1      None\n",
       "2      None\n",
       "3      None\n",
       "4      None\n",
       "       ... \n",
       "495    None\n",
       "496    None\n",
       "497    None\n",
       "498    None\n",
       "499    None\n",
       "Name: mjtheme_namecode, Length: 500, dtype: object"
      ]
     },
     "execution_count": 25,
     "metadata": {},
     "output_type": "execute_result"
    }
   ],
   "source": [
    "sample_json_df.mjtheme_namecode.apply(fill_value_func)"
   ]
  },
  {
   "cell_type": "code",
   "execution_count": 26,
   "metadata": {},
   "outputs": [
    {
     "data": {
      "text/plain": [
       "[{'code': '8', 'name': 'Human development'},\n",
       " {'code': '11', 'name': 'Environment and natural resources management'}]"
      ]
     },
     "execution_count": 26,
     "metadata": {},
     "output_type": "execute_result"
    }
   ],
   "source": [
    "# all values filled in \n",
    "sample_json_df.mjtheme_namecode[0]"
   ]
  },
  {
   "cell_type": "code",
   "execution_count": null,
   "metadata": {},
   "outputs": [],
   "source": []
  },
  {
   "cell_type": "code",
   "execution_count": null,
   "metadata": {},
   "outputs": [],
   "source": []
  },
  {
   "cell_type": "code",
   "execution_count": null,
   "metadata": {},
   "outputs": [],
   "source": []
  },
  {
   "cell_type": "code",
   "execution_count": null,
   "metadata": {},
   "outputs": [],
   "source": []
  },
  {
   "cell_type": "code",
   "execution_count": null,
   "metadata": {},
   "outputs": [],
   "source": []
  },
  {
   "cell_type": "code",
   "execution_count": null,
   "metadata": {},
   "outputs": [],
   "source": []
  },
  {
   "cell_type": "code",
   "execution_count": null,
   "metadata": {},
   "outputs": [],
   "source": []
  },
  {
   "cell_type": "code",
   "execution_count": null,
   "metadata": {},
   "outputs": [],
   "source": []
  },
  {
   "cell_type": "code",
   "execution_count": null,
   "metadata": {},
   "outputs": [],
   "source": []
  },
  {
   "cell_type": "code",
   "execution_count": null,
   "metadata": {},
   "outputs": [],
   "source": []
  },
  {
   "cell_type": "code",
   "execution_count": null,
   "metadata": {},
   "outputs": [],
   "source": []
  },
  {
   "cell_type": "code",
   "execution_count": null,
   "metadata": {},
   "outputs": [],
   "source": []
  },
  {
   "cell_type": "code",
   "execution_count": null,
   "metadata": {},
   "outputs": [],
   "source": []
  },
  {
   "cell_type": "code",
   "execution_count": null,
   "metadata": {},
   "outputs": [],
   "source": []
  }
 ],
 "metadata": {
  "kernelspec": {
   "display_name": "Python 3",
   "language": "python",
   "name": "python3"
  },
  "language_info": {
   "codemirror_mode": {
    "name": "ipython",
    "version": 3
   },
   "file_extension": ".py",
   "mimetype": "text/x-python",
   "name": "python",
   "nbconvert_exporter": "python",
   "pygments_lexer": "ipython3",
   "version": "3.7.6"
  }
 },
 "nbformat": 4,
 "nbformat_minor": 4
}
